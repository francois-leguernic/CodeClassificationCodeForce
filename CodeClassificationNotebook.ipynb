{
 "cells": [
  {
   "cell_type": "code",
   "execution_count": null,
   "id": "7639599b",
   "metadata": {},
   "outputs": [
    {
     "ename": "ModuleNotFoundError",
     "evalue": "No module named 'utils.preprocessing_utils'",
     "output_type": "error",
     "traceback": [
      "\u001b[1;31m---------------------------------------------------------------------------\u001b[0m",
      "\u001b[1;31mModuleNotFoundError\u001b[0m                       Traceback (most recent call last)",
      "Cell \u001b[1;32mIn[6], line 6\u001b[0m\n\u001b[0;32m      3\u001b[0m \u001b[38;5;28;01mimport\u001b[39;00m\u001b[38;5;250m \u001b[39m\u001b[38;5;21;01mos\u001b[39;00m   \n\u001b[0;32m      4\u001b[0m \u001b[38;5;28;01mimport\u001b[39;00m\u001b[38;5;250m \u001b[39m\u001b[38;5;21;01mtqdm\u001b[39;00m\n\u001b[1;32m----> 6\u001b[0m \u001b[38;5;28;01mimport\u001b[39;00m\u001b[38;5;250m \u001b[39m\u001b[38;5;21;01mutils\u001b[39;00m\u001b[38;5;21;01m.\u001b[39;00m\u001b[38;5;21;01mpreprocessing_utils\u001b[39;00m\n",
      "\u001b[1;31mModuleNotFoundError\u001b[0m: No module named 'utils.preprocessing_utils'"
     ]
    }
   ],
   "source": [
    "import pandas as pd\n",
    "import json \n",
    "import os   \n",
    "import tqdm\n",
    "import utils.preprocessing_utils"
   ]
  },
  {
   "cell_type": "code",
   "execution_count": null,
   "id": "44d61578",
   "metadata": {},
   "outputs": [
    {
     "name": "stderr",
     "output_type": "stream",
     "text": [
      "100%|██████████| 4982/4982 [00:01<00:00, 2659.89it/s]\n"
     ]
    }
   ],
   "source": [
    "dataset_dir = \"code_classification_dataset\"\n",
    "files = os.listdir(dataset_dir)\n",
    "\n",
    "jsonList = []\n",
    "\n",
    "for f in tqdm.tqdm(files):\n",
    "    with open(os.path.join(os.getcwd(),dataset_dir,f),'r',encoding=\"utf8\") as jsonFile:\n",
    "        data = json.load(jsonFile)\n",
    "        jsonList.append(data)\n",
    "\n",
    "\n",
    "\n"
   ]
  },
  {
   "cell_type": "code",
   "execution_count": null,
   "id": "c7522c60",
   "metadata": {},
   "outputs": [
    {
     "name": "stdout",
     "output_type": "stream",
     "text": [
      "prob_desc_time_limit\n",
      "prob_desc_sample_outputs\n",
      "src_uid\n",
      "prob_desc_notes\n",
      "prob_desc_description\n",
      "prob_desc_output_spec\n",
      "prob_desc_input_spec\n",
      "prob_desc_output_to\n",
      "prob_desc_input_from\n",
      "lang\n",
      "lang_cluster\n",
      "difficulty\n",
      "file_name\n",
      "code_uid\n",
      "prob_desc_memory_limit\n",
      "prob_desc_sample_inputs\n",
      "exec_outcome\n",
      "source_code\n",
      "prob_desc_created_at\n",
      "tags\n",
      "hidden_unit_tests\n"
     ]
    }
   ],
   "source": []
  },
  {
   "cell_type": "code",
   "execution_count": null,
   "id": "3c6f09af",
   "metadata": {},
   "outputs": [],
   "source": []
  }
 ],
 "metadata": {
  "kernelspec": {
   "display_name": "Python 3",
   "language": "python",
   "name": "python3"
  },
  "language_info": {
   "codemirror_mode": {
    "name": "ipython",
    "version": 3
   },
   "file_extension": ".py",
   "mimetype": "text/x-python",
   "name": "python",
   "nbconvert_exporter": "python",
   "pygments_lexer": "ipython3",
   "version": "3.13.3"
  }
 },
 "nbformat": 4,
 "nbformat_minor": 5
}
